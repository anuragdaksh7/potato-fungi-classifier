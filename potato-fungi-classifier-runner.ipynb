{
 "cells": [
  {
   "cell_type": "code",
   "execution_count": 1,
   "id": "3270c2d2",
   "metadata": {},
   "outputs": [],
   "source": [
    "import tensorflow as tf\n",
    "import numpy as np\n",
    "import math, os, cv2, random, time, keras\n",
    "import matplotlib.pyplot as plt"
   ]
  },
  {
   "cell_type": "code",
   "execution_count": 2,
   "id": "4f823b1f",
   "metadata": {},
   "outputs": [],
   "source": [
    "model = keras.models.load_model(\"potato-fungi-classifier-2.h5\")"
   ]
  },
  {
   "cell_type": "code",
   "execution_count": 8,
   "id": "880a02a3",
   "metadata": {},
   "outputs": [],
   "source": [
    "def cnv(a):\n",
    "    if a == 0:\n",
    "        s = \"healthy\"\n",
    "    if a == 1:\n",
    "        s = \"late blight\"\n",
    "    if a == 2:\n",
    "        s = \"early blight\"\n",
    "    return s.ljust(15,' ')"
   ]
  },
  {
   "cell_type": "code",
   "execution_count": 26,
   "id": "8543bfd8",
   "metadata": {},
   "outputs": [
    {
     "name": "stdout",
     "output_type": "stream",
     "text": [
      "early blight   \r"
     ]
    }
   ],
   "source": [
    "vid = cv2.VideoCapture(0)\n",
    "z=225/2\n",
    "while(True):\n",
    "    ret, frame = vid.read()\n",
    "#     print(frame.shape)\n",
    "    frame = frame[0:480, 0:480]\n",
    "    frame = cv2.resize(frame, (256, 256)) \n",
    "    inp = np.array([frame])\n",
    "    inp = inp/z-1\n",
    "    cv2.imshow('frame', frame)\n",
    "    a = model.predict(inp,verbose = 0)\n",
    "    #time.sleep(0.16)\n",
    "    print(cnv(np.argmax(a)),end = \"\\r\")\n",
    "    if cv2.waitKey(1) & 0xFF == ord('q'):\n",
    "        break\n",
    "vid.release()\n",
    "cv2.destroyAllWindows()"
   ]
  },
  {
   "cell_type": "code",
   "execution_count": null,
   "id": "74ae1831",
   "metadata": {},
   "outputs": [
    {
     "name": "stdout",
     "output_type": "stream",
     "text": [
      "for online video source\n"
     ]
    }
   ],
   "source": [
    "print (\"for online video source\")\n",
    "vid = cv2.VideoCapture('http://192.168.1.10:8080/video')\n",
    "z=225/2\n",
    "while(True):\n",
    "    ret, frame = vid.read()\n",
    "    #print(frame.shape)\n",
    "    frame = frame[0:360, 0:360]\n",
    "    frame = cv2.resize(frame, (256, 256)) \n",
    "    inp = np.array([frame])\n",
    "    inp = inp/z-1\n",
    "    cv2.imshow('frame', frame)\n",
    "    a = model.predict(inp,verbose = 0)\n",
    "    #time.sleep(0.16)\n",
    "    print(cnv(np.argmax(a)),end = \"\\r\")\n",
    "    if cv2.waitKey(1) & 0xFF == ord('q'):\n",
    "        break\n",
    "vid.release()\n",
    "cv2.destroyAllWindows()"
   ]
  },
  {
   "cell_type": "code",
   "execution_count": null,
   "id": "123d9430",
   "metadata": {},
   "outputs": [],
   "source": []
  },
  {
   "cell_type": "code",
   "execution_count": null,
   "id": "d5e5748a",
   "metadata": {},
   "outputs": [],
   "source": []
  },
  {
   "cell_type": "code",
   "execution_count": null,
   "id": "0380d78a",
   "metadata": {},
   "outputs": [],
   "source": []
  },
  {
   "cell_type": "code",
   "execution_count": null,
   "id": "b70f9b46",
   "metadata": {},
   "outputs": [],
   "source": []
  },
  {
   "cell_type": "code",
   "execution_count": 64,
   "id": "54d33988",
   "metadata": {},
   "outputs": [],
   "source": []
  },
  {
   "cell_type": "code",
   "execution_count": null,
   "id": "ccbb2729",
   "metadata": {},
   "outputs": [],
   "source": []
  }
 ],
 "metadata": {
  "kernelspec": {
   "display_name": "Python 3 (ipykernel)",
   "language": "python",
   "name": "python3"
  },
  "language_info": {
   "codemirror_mode": {
    "name": "ipython",
    "version": 3
   },
   "file_extension": ".py",
   "mimetype": "text/x-python",
   "name": "python",
   "nbconvert_exporter": "python",
   "pygments_lexer": "ipython3",
   "version": "3.10.8"
  }
 },
 "nbformat": 4,
 "nbformat_minor": 5
}

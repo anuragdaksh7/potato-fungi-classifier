{
 "cells": [
  {
   "cell_type": "code",
   "execution_count": 1,
   "id": "4de8eab4",
   "metadata": {},
   "outputs": [],
   "source": [
    "import tensorflow as tf\n",
    "import numpy as np\n",
    "import math, os, cv2, random, time, keras\n",
    "import matplotlib.pyplot as plt"
   ]
  },
  {
   "cell_type": "code",
   "execution_count": 5,
   "id": "6c329230",
   "metadata": {},
   "outputs": [],
   "source": [
    "path = \"C:\\\\Users\\\\anura\\\\Downloads\\\\archive\\\\PlantVillage\\\\\""
   ]
  },
  {
   "cell_type": "code",
   "execution_count": 26,
   "id": "796caf57",
   "metadata": {},
   "outputs": [],
   "source": [
    "z = 225/2"
   ]
  },
  {
   "cell_type": "code",
   "execution_count": 7,
   "id": "b79231c0",
   "metadata": {},
   "outputs": [],
   "source": [
    "ph_ = \"Potato___healthy\"\n",
    "plb_ = \"Potato___Late_blight\"\n",
    "peb_ = \"Potato___Early_blight\"\n",
    "ph = os.listdir(path+\"Potato___healthy\")\n",
    "plb = os.listdir(path+\"Potato___Late_blight\")\n",
    "peb = os.listdir(path+\"Potato___Early_blight\")"
   ]
  },
  {
   "cell_type": "code",
   "execution_count": 27,
   "id": "9d440f17",
   "metadata": {},
   "outputs": [],
   "source": [
    "inputPh = []\n",
    "outPh = []\n",
    "for i in ph:\n",
    "    img = cv2.imread(path+ph_+\"\\\\\"+i)\n",
    "    inputPh.append(img)\n",
    "    outPh.append(np.array([1,0,0]))\n",
    "inputPh = np.array(inputPh)/z-1\n",
    "outPh = np.array(outPh)"
   ]
  },
  {
   "cell_type": "code",
   "execution_count": 28,
   "id": "28ae02e0",
   "metadata": {},
   "outputs": [],
   "source": [
    "inputPlb = []\n",
    "outPlb = []\n",
    "for i in plb:\n",
    "    img = cv2.imread(path+plb_+\"\\\\\"+i)\n",
    "    inputPlb.append(img)\n",
    "    outPlb.append(np.array([0,1,0]))\n",
    "inputPlb = np.array(inputPlb)/z-1\n",
    "outPlb = np.array(outPlb)"
   ]
  },
  {
   "cell_type": "code",
   "execution_count": 29,
   "id": "2133f85b",
   "metadata": {},
   "outputs": [],
   "source": [
    "inputPeb = []\n",
    "outPeb = []\n",
    "for i in peb:\n",
    "    img = cv2.imread(path+peb_+\"\\\\\"+i)\n",
    "    inputPeb.append(img)\n",
    "    outPeb.append(np.array([0,0,1]))\n",
    "inputPeb = np.array(inputPeb)/z-1\n",
    "outPeb = np.array(outPeb)"
   ]
  },
  {
   "cell_type": "code",
   "execution_count": 30,
   "id": "5c633e76",
   "metadata": {},
   "outputs": [],
   "source": [
    "inputs = np.concatenate((inputPh,inputPlb,inputPeb))\n",
    "outputs = np.concatenate((outPh,outPlb,outPeb))"
   ]
  },
  {
   "cell_type": "code",
   "execution_count": 31,
   "id": "2dc7552c",
   "metadata": {},
   "outputs": [
    {
     "data": {
      "text/plain": [
       "((2152, 256, 256, 3), (2152, 3))"
      ]
     },
     "execution_count": 31,
     "metadata": {},
     "output_type": "execute_result"
    }
   ],
   "source": [
    "inputs.shape,outputs.shape"
   ]
  },
  {
   "cell_type": "code",
   "execution_count": 38,
   "id": "759a50ad",
   "metadata": {},
   "outputs": [],
   "source": [
    "model = tf.keras.models.Sequential([\n",
    "    tf.keras.layers.Conv2D(32, (3, 3), activation='relu', input_shape=(256, 256, 3)),\n",
    "    tf.keras.layers.MaxPooling2D((2, 2)),\n",
    "    tf.keras.layers.Conv2D(64, (3, 3), activation='relu'),\n",
    "    tf.keras.layers.MaxPooling2D((2, 2)),\n",
    "    tf.keras.layers.Conv2D(128, (3, 3), activation='relu'),\n",
    "    tf.keras.layers.MaxPooling2D((2, 2)),\n",
    "    tf.keras.layers.Flatten(),\n",
    "    tf.keras.layers.Dense(64, activation='relu'),\n",
    "    tf.keras.layers.Dense(3, activation='softmax')\n",
    "])"
   ]
  },
  {
   "cell_type": "code",
   "execution_count": 39,
   "id": "1f1ca97d",
   "metadata": {},
   "outputs": [],
   "source": [
    "model.compile(optimizer='adam', loss='binary_crossentropy', metrics=['accuracy'])"
   ]
  },
  {
   "cell_type": "code",
   "execution_count": 41,
   "id": "91fc51dd",
   "metadata": {},
   "outputs": [],
   "source": [
    "patht = \"C:\\\\Users\\\\anura\\\\Downloads\\\\archive\\\\PlantVillage\\\\PlantVillage\\\\\"\n",
    "pht = os.listdir(path+\"Potato___healthy\")\n",
    "plbt = os.listdir(path+\"Potato___Late_blight\")\n",
    "pebt = os.listdir(path+\"Potato___Early_blight\")"
   ]
  },
  {
   "cell_type": "code",
   "execution_count": null,
   "id": "7908d085",
   "metadata": {},
   "outputs": [],
   "source": [
    "inputPht = []\n",
    "outPht = []\n",
    "for i in pht:\n",
    "    img = cv2.imread(patht+ph_+\"\\\\\"+i)\n",
    "    inputPht.append(img)\n",
    "    outPht.append(np.array([1,0,0]))\n",
    "inputPht = np.array(inputPht)/z-1\n",
    "outPht = np.array(outPht)"
   ]
  },
  {
   "cell_type": "code",
   "execution_count": 43,
   "id": "b2bc8948",
   "metadata": {},
   "outputs": [],
   "source": [
    "inputPlbt = []\n",
    "outPlbt = []\n",
    "for i in plbt:\n",
    "    img = cv2.imread(patht+plb_+\"\\\\\"+i)\n",
    "    inputPlbt.append(img)\n",
    "    outPlbt.append(np.array([0,1,0]))\n",
    "inputPlbt = np.array(inputPlbt)/z-1\n",
    "outPlbt = np.array(outPlbt)"
   ]
  },
  {
   "cell_type": "code",
   "execution_count": 44,
   "id": "d398b707",
   "metadata": {},
   "outputs": [],
   "source": [
    "inputPebt = []\n",
    "outPebt = []\n",
    "for i in pebt:\n",
    "    img = cv2.imread(patht+peb_+\"\\\\\"+i)\n",
    "    inputPebt.append(img)\n",
    "    outPebt.append(np.array([0,0,1]))\n",
    "inputPebt = np.array(inputPebt)/z-1\n",
    "outPebt = np.array(outPebt)"
   ]
  },
  {
   "cell_type": "code",
   "execution_count": 47,
   "id": "f8f77bf0",
   "metadata": {},
   "outputs": [],
   "source": [
    "inputst = np.concatenate((inputPht,inputPlbt,inputPebt))\n",
    "outputst = np.concatenate((outPht,outPlbt,outPebt))"
   ]
  },
  {
   "cell_type": "code",
   "execution_count": 49,
   "id": "ff9b6158",
   "metadata": {
    "scrolled": true
   },
   "outputs": [
    {
     "name": "stdout",
     "output_type": "stream",
     "text": [
      "68/68 [==============================] - 108s 2s/step - loss: 0.1458 - accuracy: 0.9154\n"
     ]
    },
    {
     "data": {
      "text/plain": [
       "<keras.callbacks.History at 0x281293e7640>"
      ]
     },
     "execution_count": 49,
     "metadata": {},
     "output_type": "execute_result"
    }
   ],
   "source": [
    "model.fit(inputs,outputs,epochs = 1)"
   ]
  },
  {
   "cell_type": "code",
   "execution_count": 50,
   "id": "f6fd2a27",
   "metadata": {},
   "outputs": [
    {
     "name": "stdout",
     "output_type": "stream",
     "text": [
      "68/68 [==============================] - 27s 402ms/step - loss: 0.0793 - accuracy: 0.9624\n"
     ]
    },
    {
     "data": {
      "text/plain": [
       "[0.07927162945270538, 0.9623606204986572]"
      ]
     },
     "execution_count": 50,
     "metadata": {},
     "output_type": "execute_result"
    }
   ],
   "source": [
    "model.evaluate(inputst,outputst)"
   ]
  },
  {
   "cell_type": "code",
   "execution_count": 51,
   "id": "278048dc",
   "metadata": {},
   "outputs": [],
   "source": [
    "model.save(\"potato-fungi-classifier-2.h5\")"
   ]
  },
  {
   "cell_type": "code",
   "execution_count": null,
   "id": "d6e24001",
   "metadata": {},
   "outputs": [],
   "source": []
  }
 ],
 "metadata": {
  "kernelspec": {
   "display_name": "Python 3 (ipykernel)",
   "language": "python",
   "name": "python3"
  },
  "language_info": {
   "codemirror_mode": {
    "name": "ipython",
    "version": 3
   },
   "file_extension": ".py",
   "mimetype": "text/x-python",
   "name": "python",
   "nbconvert_exporter": "python",
   "pygments_lexer": "ipython3",
   "version": "3.10.8"
  }
 },
 "nbformat": 4,
 "nbformat_minor": 5
}
